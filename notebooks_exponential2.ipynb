{
  "metadata": {
    "language_info": {
      "codemirror_mode": {
        "name": "python",
        "version": 3
      },
      "file_extension": ".py",
      "mimetype": "text/x-python",
      "name": "python",
      "nbconvert_exporter": "python",
      "pygments_lexer": "ipython3",
      "version": "3.8"
    },
    "kernelspec": {
      "name": "python",
      "display_name": "Python (Pyodide)",
      "language": "python"
    }
  },
  "nbformat_minor": 4,
  "nbformat": 4,
  "cells": [
    {
      "cell_type": "code",
      "source": "# Recursive Function\np = 1.0\nf = 1.0\n\n\ndef e(x, n):\n\n\tglobal p, f\n\n\t# Termination condition\n\tif (n == 0):\n\t\treturn 1\n\n\t# Recursive call\n\tr = e(x, n - 1)\n\n\t# Update the power of x\n\tp = p * x\n\n\t# Factorial\n\tf = f * n\n\n\treturn (r + p / f)\n\n# Driver code\n\n\nx = 4\nn = 15\nprint(e(x, n))\n\n",
      "metadata": {
        "trusted": true
      },
      "execution_count": 1,
      "outputs": [
        {
          "name": "stdout",
          "text": "54.5978829056501\n",
          "output_type": "stream"
        }
      ]
    },
    {
      "cell_type": "code",
      "source": "\n\n# Function to calculate value\n# using sum of first n terms of\n# Taylor Series\ndef exponential(n, x):\n\n\t# initialize sum of series\n\tsum = 1.0\n\tfor i in range(n, 0, -1):\n\t\tsum = 1 + x * sum / i\n\tprint (\"e^x =\", sum)\n\n# Driver program to test above function\nn = 10\nx = 1.0\nexponential(n, x)\n\n",
      "metadata": {
        "trusted": true
      },
      "execution_count": 2,
      "outputs": [
        {
          "name": "stdout",
          "text": "e^x = 2.7182818011463845\n",
          "output_type": "stream"
        }
      ]
    },
    {
      "cell_type": "code",
      "source": "",
      "metadata": {},
      "execution_count": null,
      "outputs": []
    }
  ]
}